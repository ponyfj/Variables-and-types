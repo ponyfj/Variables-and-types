{
 "cells": [
  {
   "cell_type": "markdown",
   "metadata": {},
   "source": [
    "Complete the following code before committing and pushing them to your GH repo:"
   ]
  },
  {
   "cell_type": "code",
   "execution_count": 2,
   "metadata": {},
   "outputs": [
    {
     "name": "stdout",
     "output_type": "stream",
     "text": [
      "NURSERY RHYMES\n",
      "nursery rhymes\n",
      "baa, baa, baa, black sheep, have you any wool?\n",
      " maa, maa, maa, black sheep, have you any wool? \n",
      "['', 'baa,', 'baa,', 'baa,', 'black', 'sheep,', 'have', 'you', 'any', 'wool?', '']\n",
      "3\n",
      "2\n",
      "34\n",
      "-1\n",
      "True\n",
      "True\n"
     ]
    }
   ],
   "source": [
    "str1 = ' baa, baa, baa, black sheep, have you any wool? '\n",
    "str2 = 'Nursery rhymes'\n",
    "\n",
    "poem = \"\"\"Baa, baa, black sheep,\n",
    "Have you any wool?\n",
    "Yes sir, yes sir,\n",
    "Three bags full.\"\"\"\n",
    "\n",
    "print(str2.upper())\n",
    "print(str2.lower())\n",
    "print(str1.strip())\n",
    "print(str1.replace('baa', 'maa'))\n",
    "print(str1.split(' '))\n",
    "print(str1.count('baa'))\n",
    "print(str1.count('baa', 5, 30))\n",
    "print(str1.find('y'))\n",
    "print(str1.find('z'))\n",
    "print(str1.endswith('? '))\n",
    "print(str2.startswith('Nursery'))\n",
    "\n"
   ]
  },
  {
   "cell_type": "code",
   "execution_count": null,
   "metadata": {},
   "outputs": [],
   "source": []
  }
 ],
 "metadata": {
  "kernelspec": {
   "display_name": "Python 3",
   "language": "python",
   "name": "python3"
  },
  "language_info": {
   "codemirror_mode": {
    "name": "ipython",
    "version": 3
   },
   "file_extension": ".py",
   "mimetype": "text/x-python",
   "name": "python",
   "nbconvert_exporter": "python",
   "pygments_lexer": "ipython3",
   "version": "3.9.7"
  }
 },
 "nbformat": 4,
 "nbformat_minor": 2
}
